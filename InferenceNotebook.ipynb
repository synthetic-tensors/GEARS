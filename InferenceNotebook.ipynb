{
 "cells": [
  {
   "cell_type": "code",
   "execution_count": 1,
   "id": "5b173db9-7190-4491-83fd-d03b691ece65",
   "metadata": {},
   "outputs": [
    {
     "name": "stderr",
     "output_type": "stream",
     "text": [
      "/home/callum/private/External/miniconda3/envs/chemGEARS-2/lib/python3.11/site-packages/tqdm/auto.py:21: TqdmWarning: IProgress not found. Please update jupyter and ipywidgets. See https://ipywidgets.readthedocs.io/en/stable/user_install.html\n",
      "  from .autonotebook import tqdm as notebook_tqdm\n"
     ]
    }
   ],
   "source": [
    "from inference import InferencePertData, GEARSInference\n",
    "import os\n",
    "import torch\n",
    "import random\n",
    "import numpy as np"
   ]
  },
  {
   "cell_type": "code",
   "execution_count": 2,
   "id": "a7163d4e-1f44-462e-a518-1a1a0389f35d",
   "metadata": {},
   "outputs": [
    {
     "name": "stdout",
     "output_type": "stream",
     "text": [
      "download: s3://syntensor-labs-data/inference/GEARS/norman/config.pkl to models/norman/config.pkl\n",
      "download: s3://syntensor-labs-data/inference/GEARS/norman/test_preds.pkl to models/norman/test_preds.pkl\n",
      "download: s3://syntensor-labs-data/inference/GEARS/norman/model.pt to models/norman/model.pt\n",
      "download: s3://syntensor-labs-data/inference/GEARS/norman/infer_pertdata.pkl to models/norman/infer_pertdata.pkl\n"
     ]
    },
    {
     "data": {
      "text/plain": [
       "0"
      ]
     },
     "execution_count": 2,
     "metadata": {},
     "output_type": "execute_result"
    }
   ],
   "source": [
    "# download model and data\n",
    "dataset_name = 'norman'\n",
    "save_to = 'models'\n",
    "os.system(f'aws s3 cp --recursive s3://syntensor-labs-data/inference/GEARS/{dataset_name} models/{dataset_name}/')"
   ]
  },
  {
   "cell_type": "code",
   "execution_count": 3,
   "id": "5e34a1cf-b01d-4bb9-a48c-c1bc841d361b",
   "metadata": {},
   "outputs": [],
   "source": [
    "model = GEARSInference(f'models/{dataset_name}/infer_pertdata.pkl')\n",
    "model.load_pretrained(f'models/{dataset_name}/')\n",
    "possible_perturbations = model.pert_list"
   ]
  },
  {
   "cell_type": "code",
   "execution_count": 4,
   "id": "cf1c8b11-a324-4c9c-944d-31f2f93ad201",
   "metadata": {},
   "outputs": [],
   "source": [
    "example_request_single_perts = [[x] for x in random.sample(possible_perturbations, 10)]\n",
    "example_request_double_perts = [[x, y] for x,y in zip(random.sample(possible_perturbations, 10), random.sample(possible_perturbations, 10))]"
   ]
  },
  {
   "cell_type": "code",
   "execution_count": 5,
   "id": "af563855-ea6e-4754-8ed7-605d5cff0c16",
   "metadata": {},
   "outputs": [
    {
     "data": {
      "text/plain": [
       "[['FIS1'],\n",
       " ['SOHLH1'],\n",
       " ['NUMBL'],\n",
       " ['PPM1G'],\n",
       " ['R3HDM4'],\n",
       " ['PAXIP1'],\n",
       " ['ZNF266'],\n",
       " ['LITAF'],\n",
       " ['COBL'],\n",
       " ['ZNF503']]"
      ]
     },
     "execution_count": 5,
     "metadata": {},
     "output_type": "execute_result"
    }
   ],
   "source": [
    "example_request_single_perts"
   ]
  },
  {
   "cell_type": "code",
   "execution_count": 6,
   "id": "ea17e167-6286-439e-8d7a-27f306d7c840",
   "metadata": {},
   "outputs": [
    {
     "name": "stdout",
     "output_type": "stream",
     "text": [
      "{'FIS1': array([1.0906649e-03, 1.1652883e-02, 3.1155536e-02, ..., 3.6954989e+00,\n",
      "       4.3421159e-03, 5.0031528e-04], dtype=float32), 'SOHLH1': array([1.0927292e-03, 1.5304216e-02, 4.3143187e-02, ..., 3.6415303e+00,\n",
      "       5.3680832e-03, 6.2373752e-04], dtype=float32), 'NUMBL': array([9.9577324e-04, 1.5301293e-02, 3.6256541e-02, ..., 3.6689849e+00,\n",
      "       4.0848227e-03, 4.6217450e-04], dtype=float32), 'PPM1G': array([9.8308909e-04, 1.4764603e-02, 3.6246613e-02, ..., 3.6642740e+00,\n",
      "       3.8114686e-03, 4.2636736e-04], dtype=float32), 'R3HDM4': array([1.0831652e-03, 1.5455273e-02, 3.6536362e-02, ..., 3.6899271e+00,\n",
      "       4.2636427e-03, 4.9359468e-04], dtype=float32), 'PAXIP1': array([1.0416181e-03, 1.3541746e-02, 3.7485082e-02, ..., 3.6581514e+00,\n",
      "       4.2920937e-03, 4.8734731e-04], dtype=float32), 'ZNF266': array([1.0831652e-03, 1.7165283e-02, 3.8888853e-02, ..., 3.7212150e+00,\n",
      "       4.2636427e-03, 4.9359468e-04], dtype=float32), 'LITAF': array([2.0675422e-03, 2.1229088e-02, 4.3515906e-02, ..., 3.6856461e+00,\n",
      "       6.3229725e-03, 8.3595596e-04], dtype=float32), 'COBL': array([1.0374808e-03, 1.3033897e-02, 3.1001527e-02, ..., 3.6570354e+00,\n",
      "       6.9413623e-03, 4.7648087e-04], dtype=float32), 'ZNF503': array([9.2482648e-04, 1.2841933e-02, 3.1925973e-02, ..., 3.6997688e+00,\n",
      "       3.8229255e-03, 4.3878745e-04], dtype=float32)}\n"
     ]
    }
   ],
   "source": [
    "# to get raw perturbed expression results\n",
    "results = model.predict(example_request_single_perts)\n",
    "print(results)"
   ]
  },
  {
   "cell_type": "code",
   "execution_count": 7,
   "id": "c9978e25-eae7-485e-8277-9f815d04dc3e",
   "metadata": {},
   "outputs": [],
   "source": [
    "# to convert to a dict with ensembl_id gene keys\n",
    "results_dict = {k:dict(zip(model.gene_list, v)) for k,v in results.items()}"
   ]
  },
  {
   "cell_type": "code",
   "execution_count": 8,
   "id": "ec2a7ff3-f48e-4938-99db-fdaeac43bc25",
   "metadata": {},
   "outputs": [],
   "source": [
    "# to convert compare to control\n",
    "diff = {k:v-model.ctrl_mean for k,v in results.items()}\n",
    "logfc = {k:np.log2(v/model.ctrl_mean) for k,v in results.items()}"
   ]
  },
  {
   "cell_type": "code",
   "execution_count": null,
   "id": "8a1e5d5c-d40b-490d-9744-29590a8654bd",
   "metadata": {},
   "outputs": [],
   "source": []
  }
 ],
 "metadata": {
  "kernelspec": {
   "display_name": "chemGEARS-2",
   "language": "python",
   "name": "chemgears-2"
  },
  "language_info": {
   "codemirror_mode": {
    "name": "ipython",
    "version": 3
   },
   "file_extension": ".py",
   "mimetype": "text/x-python",
   "name": "python",
   "nbconvert_exporter": "python",
   "pygments_lexer": "ipython3",
   "version": "3.11.7"
  }
 },
 "nbformat": 4,
 "nbformat_minor": 5
}
